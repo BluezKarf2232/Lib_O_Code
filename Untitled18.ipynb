{
 "cells": [
  {
   "cell_type": "code",
   "execution_count": 1,
   "metadata": {},
   "outputs": [],
   "source": [
    "import numpy as np"
   ]
  },
  {
   "cell_type": "code",
   "execution_count": 3,
   "metadata": {},
   "outputs": [
    {
     "name": "stdout",
     "output_type": "stream",
     "text": [
      "[[17  1]\n",
      " [28  1]] <class 'numpy.ndarray'>\n"
     ]
    }
   ],
   "source": [
    "xs=np.array(((2,3),(3,5)))\n",
    "ys=np.array(((1,2),(5,-1)))\n",
    "print(np.dot(xs,ys),type(np.dot(xs,ys)))\n",
    "print((xs*ys),type(xs*ys))\n",
    "print((xs@ys),type(xs@ys))\n",
    "#즉, np.dot연산 == @연산"
   ]
  },
  {
   "cell_type": "code",
   "execution_count": 6,
   "metadata": {},
   "outputs": [
    {
     "name": "stdout",
     "output_type": "stream",
     "text": [
      "[[17  1]\n",
      " [28  1]] <class 'numpy.ndarray'>\n",
      "[[ 2  6]\n",
      " [15 -5]] <class 'numpy.ndarray'>\n",
      "[[17  1]\n",
      " [28  1]] <class 'numpy.ndarray'>\n"
     ]
    }
   ],
   "source": [
    "xs=np.array([[2,3],[3,5]])\n",
    "ys=np.array([[1,2],[5,-1]])\n",
    "print(np.dot(xs,ys),type(np.dot(xs,ys)))\n",
    "print((xs*ys),type(xs*ys))\n",
    "print((xs@ys),type(xs@ys))\n",
    "#대괄호 써도 똑같음"
   ]
  },
  {
   "cell_type": "code",
   "execution_count": 18,
   "metadata": {},
   "outputs": [
    {
     "name": "stdout",
     "output_type": "stream",
     "text": [
      "[3 1 0]\n",
      "[3 4 4]\n"
     ]
    }
   ],
   "source": [
    "a=np.random.choice(5,3,replace=False)\n",
    "print(a)\n",
    "c=np.random.choice(5,3,replace=True)\n",
    "print(c)"
   ]
  },
  {
   "cell_type": "code",
   "execution_count": 39,
   "metadata": {},
   "outputs": [
    {
     "name": "stdout",
     "output_type": "stream",
     "text": [
      "[0 4 1]\n"
     ]
    }
   ],
   "source": [
    "b=np.random.permutation(np.arange(5))[:3]\n",
    "print(b)"
   ]
  },
  {
   "cell_type": "code",
   "execution_count": 40,
   "metadata": {},
   "outputs": [
    {
     "name": "stdout",
     "output_type": "stream",
     "text": [
      "0.3446145409836672\n"
     ]
    }
   ],
   "source": [
    "print(np.random.random_sample())"
   ]
  },
  {
   "cell_type": "code",
   "execution_count": 41,
   "metadata": {},
   "outputs": [
    {
     "name": "stdout",
     "output_type": "stream",
     "text": [
      "[[0.0591919  0.20248802 0.49943189 0.19232098]\n",
      " [0.07413472 0.1399337  0.10754169 0.61951136]\n",
      " [0.37480524 0.30273113 0.18653104 0.12079679]]\n"
     ]
    }
   ],
   "source": [
    "x=np.random.random_sample((3,4))\n",
    "print(x)"
   ]
  },
  {
   "cell_type": "code",
   "execution_count": 42,
   "metadata": {},
   "outputs": [
    {
     "name": "stdout",
     "output_type": "stream",
     "text": [
      "[[ 5.00329274  4.80303092  2.99224171  4.17221239]\n",
      " [ 3.57199745  2.63797585  5.16033983 -2.21707653]\n",
      " [ 1.77429727  4.09174956  0.75861499  1.28247215]]\n"
     ]
    }
   ],
   "source": [
    "a=-3.4\n",
    "b=5.9\n",
    "c=(b-a)*np.random.random_sample((3,4))+a\n",
    "print(c)"
   ]
  },
  {
   "cell_type": "code",
   "execution_count": 59,
   "metadata": {},
   "outputs": [
    {
     "data": {
      "text/plain": [
       "array([0.  , 0.23, 0.77, 1.07])"
      ]
     },
     "execution_count": 59,
     "metadata": {},
     "output_type": "execute_result"
    }
   ],
   "source": [
    "import numpy as np\n",
    "np.set_printoptions(precision=2)\n",
    "\n",
    "weights=[0.2348889888,0.531601111111,0.3000099]\n",
    "cum_weights=[0]+list(np.cumsum(weights))\n",
    "np.array(cum_weights)"
   ]
  },
  {
   "cell_type": "code",
   "execution_count": null,
   "metadata": {},
   "outputs": [],
   "source": []
  }
 ],
 "metadata": {
  "kernelspec": {
   "display_name": "Python 3",
   "language": "python",
   "name": "python3"
  },
  "language_info": {
   "codemirror_mode": {
    "name": "ipython",
    "version": 3
   },
   "file_extension": ".py",
   "mimetype": "text/x-python",
   "name": "python",
   "nbconvert_exporter": "python",
   "pygments_lexer": "ipython3",
   "version": "3.6.8"
  }
 },
 "nbformat": 4,
 "nbformat_minor": 2
}
