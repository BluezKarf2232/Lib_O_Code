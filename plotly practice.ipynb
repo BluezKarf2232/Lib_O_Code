{
 "cells": [
  {
   "cell_type": "code",
   "execution_count": 1,
   "metadata": {},
   "outputs": [
    {
     "data": {
      "text/plain": [
       "'https://plot.ly/~cda2751/1/'"
      ]
     },
     "execution_count": 1,
     "metadata": {},
     "output_type": "execute_result"
    }
   ],
   "source": [
    "import chart_studio.plotly as py\n",
    "import plotly.graph_objs as go\n",
    "import numpy as np\n",
    "\n",
    "py.sign_in(username='cda2751',api_key='vZEFPM0vPwV3GMHFVBKj')\n",
    "\n",
    "mx=[1,2,3,4]\n",
    "my=[1,2,3,4]\n",
    "trace=go.Scatter(\n",
    "x=mx,\n",
    "y=my\n",
    ")\n",
    "data=[trace]\n",
    "py.plot(data)"
   ]
  },
  {
   "cell_type": "code",
   "execution_count": 5,
   "metadata": {},
   "outputs": [
    {
     "data": {
      "text/plain": [
       "'temp-plot.html'"
      ]
     },
     "execution_count": 5,
     "metadata": {},
     "output_type": "execute_result"
    }
   ],
   "source": [
    "import plotly\n",
    "import plotly.graph_objs as go\n",
    "\n",
    "plotly.offline.plot({\n",
    "    'data':[go.Scatter(x=[1,2,3,4],y=[1,2,3,4])],\n",
    "    'layout':go.Layout(title='line chart')\n",
    "},auto_open=True)"
   ]
  },
  {
   "cell_type": "code",
   "execution_count": 7,
   "metadata": {},
   "outputs": [
    {
     "data": {
      "text/plain": [
       "'https://plot.ly/~cda2751/3/'"
      ]
     },
     "execution_count": 7,
     "metadata": {},
     "output_type": "execute_result"
    }
   ],
   "source": [
    "import plotly\n",
    "import plotly.graph_objs as go\n",
    "import chart_studio.plotly as py\n",
    "\n",
    "py.sign_in(username='cda2751',api_key='vZEFPM0vPwV3GMHFVBKj')\n",
    "a=(1,2,3,4,5,6,7,8)\n",
    "b=(2,8,4,8,2,1,4,5)\n",
    "trace=go.Scatter(\n",
    "x=a,\n",
    "y=b\n",
    ")\n",
    "py.plot([trace])"
   ]
  },
  {
   "cell_type": "code",
   "execution_count": 8,
   "metadata": {},
   "outputs": [
    {
     "data": {
      "text/plain": [
       "'https://plot.ly/~cda2751/5/'"
      ]
     },
     "execution_count": 8,
     "metadata": {},
     "output_type": "execute_result"
    }
   ],
   "source": [
    "import plotly\n",
    "import plotly.graph_objs as go\n",
    "import chart_studio.plotly as py\n",
    "\n",
    "py.sign_in(username='cda2751',api_key='vZEFPM0vPwV3GMHFVBKj')\n",
    "\n",
    "cats=['Swwets','Meat','Veggies','Liquids']\n",
    "\n",
    "JO={'name':'John','x':cats,'y':[14,7,2,5],'type':'bar','marker':{'color':'rgb(255,0,0)'}}\n",
    "\n",
    "JA={'name':'Jack','x':cats,'y':[5,11,10,9],'type':'bar','marker':{'color':'rgb(0,0,255)'}}\n",
    "\n",
    "omicron={'title':'Portions','autosize':False,'width':800,'height':700,'yaxis':{'name':'food eaten in g'},'xaxis':{'name':'cats'},'barmode':'group','bargroupgap':0.5,}\n",
    "\n",
    "py.plot([JO,JA],layout=omicron)"
   ]
  },
  {
   "cell_type": "code",
   "execution_count": 12,
   "metadata": {},
   "outputs": [],
   "source": [
    "import plotly\n",
    "import plotly.graph_objs as go\n",
    "import chart_studio.plotly as py\n",
    "\n",
    "py.sign_in(username='cda2751',api_key='vZEFPM0vPwV3GMHFVBKj')\n",
    "\n",
    "x={'x':[1,2,3,4],'y':[4,2,1,5],'fill':'tozeroy','name':'x'}\n",
    "y={'x':[1,2,3,4],'y':[1,5,1,5.5],'fill':'tonexty','name':'y'}\n",
    "lop={'width':500,'height':500,'showlegend':True,'autosize':False,}\n",
    "response=py.plot([x,y],layout=lop)"
   ]
  },
  {
   "cell_type": "code",
   "execution_count": 14,
   "metadata": {},
   "outputs": [],
   "source": [
    "import plotly\n",
    "import plotly.graph_objs as go\n",
    "import chart_studio.plotly as py\n",
    "py.sign_in(username='cda2751',api_key='vZEFPM0vPwV3GMHFVBKj')\n",
    "\n",
    "y=0;t=0;dt=0.01;g=9.8;v=4;yp=[];tp=[]\n",
    "while y>=0:\n",
    "    v=v-g*dt\n",
    "    y=y+v*dt\n",
    "    t=t+dt\n",
    "    yp=yp+[y]\n",
    "    tp=tp+[t]\n",
    "    \n",
    "trace=go.Scatter(\n",
    "x=tp,\n",
    "y=yp\n",
    ")\n",
    "response=py.plot([trace])"
   ]
  },
  {
   "cell_type": "code",
   "execution_count": 16,
   "metadata": {},
   "outputs": [
    {
     "data": {
      "text/html": [
       "\n",
       "        <iframe\n",
       "            width=\"100%\"\n",
       "            height=\"710px\"\n",
       "            src=\"https://plot.ly/~cda2751/11.embed\"\n",
       "            frameborder=\"0\"\n",
       "            allowfullscreen\n",
       "        ></iframe>\n",
       "        "
      ],
      "text/plain": [
       "<IPython.lib.display.IFrame at 0x260fa860a20>"
      ]
     },
     "execution_count": 16,
     "metadata": {},
     "output_type": "execute_result"
    }
   ],
   "source": [
    "import plotly.figure_factory as ff\n",
    "import pandas as pd\n",
    "df=pd.read_csv(\"https://raw.githubusercontent.com/plotly/datasets/master/school_earnings.csv\")\n",
    "table=ff.create_table(df)\n",
    "py.iplot(table,filename='table')"
   ]
  },
  {
   "cell_type": "code",
   "execution_count": 17,
   "metadata": {},
   "outputs": [
    {
     "data": {
      "text/html": [
       "\n",
       "        <iframe\n",
       "            width=\"100%\"\n",
       "            height=\"260px\"\n",
       "            src=\"https://plot.ly/~cda2751/13.embed\"\n",
       "            frameborder=\"0\"\n",
       "            allowfullscreen\n",
       "        ></iframe>\n",
       "        "
      ],
      "text/plain": [
       "<IPython.lib.display.IFrame at 0x260f82f6f60>"
      ]
     },
     "execution_count": 17,
     "metadata": {},
     "output_type": "execute_result"
    }
   ],
   "source": [
    "import plotly.figure_factory as ff\n",
    "data_matrix=[['Country','year','Population'],\n",
    "            ['United States',2000,282200000],\n",
    "            ['Canada',2000,2779000],\n",
    "            ['United States',2005,295500000],\n",
    "            ['Canada',2005,32310000],\n",
    "            ['United States',2010,309000000],\n",
    "            ['Canada',2010,34000000]]\n",
    "table=ff.create_table(data_matrix)\n",
    "py.iplot(table,filename='simple_table')"
   ]
  },
  {
   "cell_type": "code",
   "execution_count": 19,
   "metadata": {},
   "outputs": [
    {
     "data": {
      "text/html": [
       "\n",
       "        <iframe\n",
       "            width=\"100%\"\n",
       "            height=\"525px\"\n",
       "            src=\"https://plot.ly/~cda2751/15.embed\"\n",
       "            frameborder=\"0\"\n",
       "            allowfullscreen\n",
       "        ></iframe>\n",
       "        "
      ],
      "text/plain": [
       "<IPython.lib.display.IFrame at 0x26085d33f28>"
      ]
     },
     "execution_count": 19,
     "metadata": {},
     "output_type": "execute_result"
    }
   ],
   "source": [
    "import plotly.graph_objs as go\n",
    "financial=pd.read_csv('https://raw.githubusercontent.com/plotly/datasets/master/finance-charts-apple.csv')\n",
    "data=[go.Scatter(x=financial.Date,y=financial['AAPL.Close'])]\n",
    "py.iplot(data)"
   ]
  },
  {
   "cell_type": "code",
   "execution_count": 20,
   "metadata": {},
   "outputs": [
    {
     "data": {
      "text/html": [
       "\n",
       "        <iframe\n",
       "            width=\"100%\"\n",
       "            height=\"525px\"\n",
       "            src=\"https://plot.ly/~cda2751/17.embed\"\n",
       "            frameborder=\"0\"\n",
       "            allowfullscreen\n",
       "        ></iframe>\n",
       "        "
      ],
      "text/plain": [
       "<IPython.lib.display.IFrame at 0x26082d4ef98>"
      ]
     },
     "execution_count": 20,
     "metadata": {},
     "output_type": "execute_result"
    }
   ],
   "source": [
    "from datetime import datetime\n",
    "open_data=[33.0,35.3,33.5,33.0,34.1]\n",
    "high_data=[33.1,36.3,33.6,33.2,34.8]\n",
    "low_data=[32.7,32.7,32.8,32.6,32.8]\n",
    "close_data=[33.0,32.9,33.3,33.1,33.1]\n",
    "dates=[datetime(year=2013,month=10,day=10),\n",
    "       datetime(year=2013,month=11,day=10),\n",
    "       datetime(year=2013,month=12,day=10),\n",
    "       datetime(year=2014,month=1,day=10),\n",
    "       datetime(year=2014,month=2,day=10)]\n",
    "trace=go.Ohlc(\n",
    "    x=dates,\n",
    "open=open_data,\n",
    "high=high_data,\n",
    "low=low_data,\n",
    "close=close_data)\n",
    "data=[trace]\n",
    "py.iplot(data)"
   ]
  },
  {
   "cell_type": "code",
   "execution_count": 24,
   "metadata": {},
   "outputs": [
    {
     "data": {
      "text/html": [
       "\n",
       "        <iframe\n",
       "            width=\"100%\"\n",
       "            height=\"525px\"\n",
       "            src=\"https://plot.ly/~cda2751/19.embed\"\n",
       "            frameborder=\"0\"\n",
       "            allowfullscreen\n",
       "        ></iframe>\n",
       "        "
      ],
      "text/plain": [
       "<IPython.lib.display.IFrame at 0x26085bb3cf8>"
      ]
     },
     "execution_count": 24,
     "metadata": {},
     "output_type": "execute_result"
    }
   ],
   "source": [
    "import plotly.graph_objs as go\n",
    "data=[go.Bar(x=df.School,y=df.Women)]\n",
    "py.iplot(data,filename='women-bar')"
   ]
  },
  {
   "cell_type": "code",
   "execution_count": 26,
   "metadata": {},
   "outputs": [
    {
     "data": {
      "text/html": [
       "\n",
       "        <iframe\n",
       "            width=\"100%\"\n",
       "            height=\"525px\"\n",
       "            src=\"https://plot.ly/~cda2751/22.embed\"\n",
       "            frameborder=\"0\"\n",
       "            allowfullscreen\n",
       "        ></iframe>\n",
       "        "
      ],
      "text/plain": [
       "<IPython.lib.display.IFrame at 0x2608603ef98>"
      ]
     },
     "execution_count": 26,
     "metadata": {},
     "output_type": "execute_result"
    }
   ],
   "source": [
    "import plotly.graph_objs as go\n",
    "women=go.Bar(x=df.School,y=df.Women)\n",
    "men=go.Bar(x=df.School,y=df.Men)\n",
    "data=[men,women]\n",
    "layout=go.Layout(barmode='group')\n",
    "fig=go.Figure(data=data,layout=layout)\n",
    "py.iplot(fig)"
   ]
  },
  {
   "cell_type": "code",
   "execution_count": 27,
   "metadata": {},
   "outputs": [
    {
     "data": {
      "text/html": [
       "\n",
       "        <iframe\n",
       "            width=\"100%\"\n",
       "            height=\"525px\"\n",
       "            src=\"https://plot.ly/~cda2751/24.embed\"\n",
       "            frameborder=\"0\"\n",
       "            allowfullscreen\n",
       "        ></iframe>\n",
       "        "
      ],
      "text/plain": [
       "<IPython.lib.display.IFrame at 0x26080460a20>"
      ]
     },
     "execution_count": 27,
     "metadata": {},
     "output_type": "execute_result"
    }
   ],
   "source": [
    "import plotly.graph_objs as go\n",
    "women=go.Bar(x=df.School,y=df.Women)\n",
    "men=go.Bar(x=df.School,y=df.Men)\n",
    "data=[men,women]\n",
    "layout=go.Layout(barmode='relative')\n",
    "fig=go.Figure(data=data,layout=layout)\n",
    "py.iplot(fig)"
   ]
  },
  {
   "cell_type": "code",
   "execution_count": null,
   "metadata": {},
   "outputs": [],
   "source": []
  }
 ],
 "metadata": {
  "kernelspec": {
   "display_name": "Python 3",
   "language": "python",
   "name": "python3"
  },
  "language_info": {
   "codemirror_mode": {
    "name": "ipython",
    "version": 3
   },
   "file_extension": ".py",
   "mimetype": "text/x-python",
   "name": "python",
   "nbconvert_exporter": "python",
   "pygments_lexer": "ipython3",
   "version": "3.6.8"
  }
 },
 "nbformat": 4,
 "nbformat_minor": 2
}
