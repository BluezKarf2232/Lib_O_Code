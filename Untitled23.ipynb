{
 "cells": [
  {
   "cell_type": "code",
   "execution_count": 10,
   "metadata": {},
   "outputs": [
    {
     "data": {
      "image/jpeg": "[encoded data removed]",
      "text/html": [
       "\n",
       "        <iframe\n",
       "            width=\"400\"\n",
       "            height=\"300\"\n",
       "            src=\"https://www.youtube.com/embed/Y6QtXFR2dyA\"\n",
       "            frameborder=\"0\"\n",
       "            allowfullscreen\n",
       "        ></iframe>\n",
       "        "
      ],
      "text/plain": [
       "<IPython.lib.display.YouTubeVideo at 0x1bd1b672668>"
      ]
     },
     "metadata": {},
     "output_type": "display_data"
    }
   ],
   "source": [
    "from collections import OrderedDict\n",
    "from IPython.display import (display,clear_output,YouTubeVideo)\n",
    "from ipywidgets import Dropdown\n",
    "\n",
    "dw=Dropdown(options=OrderedDict([('Choose it','Null'),('SciPy 2016','Ejh0ftSjk6g'),\\\n",
    "                                 ('PyCon 2016','YgtL4S7Hrwo'),('Pydata 2016','s4ChP7tc3tA'),\\\n",
    "                                ('Look at these seals ^_^','Y6QtXFR2dyA')]))\n",
    "\n",
    "def on_value_change(name,val):\n",
    "    clear_output()\n",
    "    display(YouTubeVideo(val))\n",
    "\n",
    "dw.on_trait_change(on_value_change,'value')\n",
    "dw.value=dw.options['Choose it']\n",
    "display(dw)"
   ]
  },
  {
   "cell_type": "code",
   "execution_count": 12,
   "metadata": {},
   "outputs": [
    {
     "data": {
      "application/vnd.jupyter.widget-view+json": {
       "model_id": "bfd2e2b0c7e74c7ab45760c7aae07319",
       "version_major": 2,
       "version_minor": 0
      },
      "text/plain": [
       "interactive(children=(IntSlider(value=5, description='n', max=15, min=-5), Output()), _dom_classes=('widget-in…"
      ]
     },
     "metadata": {},
     "output_type": "display_data"
    }
   ],
   "source": [
    "from ipywidgets import interact\n",
    "@interact(n=5)\n",
    "def f(n):\n",
    "    return n #5에서 시작, 마우스를 드래그 해 -5에서 15까지 이동 가능"
   ]
  },
  {
   "cell_type": "code",
   "execution_count": 13,
   "metadata": {},
   "outputs": [
    {
     "data": {
      "application/vnd.jupyter.widget-view+json": {
       "model_id": "ca441f88132b42c0a379a1326d664f6e",
       "version_major": 2,
       "version_minor": 0
      },
      "text/plain": [
       "interactive(children=(IntSlider(value=1, description='i', max=3, min=-1), FloatSlider(value=0.1, description='…"
      ]
     },
     "metadata": {},
     "output_type": "display_data"
    }
   ],
   "source": [
    "@interact(i=1,f=0.1,s='text',l=['a','b'],is_checked=True)\n",
    "def f(i,f,s,l,is_checked):\n",
    "    return i,f,s,l,is_checked\n",
    "#i는 -1에서 3까지 움직임\n",
    "#f는 -0.10 에서 0.30 까지 움직임\n",
    "#s에는 텍스트를 넣을 수 있음\n",
    "#l은 a 또는 b 를 선택할 수 있음\n",
    "#is_checked 는 체크박스. 체크=True 안 체크=False"
   ]
  },
  {
   "cell_type": "code",
   "execution_count": 14,
   "metadata": {},
   "outputs": [
    {
     "data": {
      "application/vnd.jupyter.widget-view+json": {
       "model_id": "026359e747484be7a3315a26b8948795",
       "version_major": 2,
       "version_minor": 0
      },
      "text/plain": [
       "interactive(children=(IntSlider(value=5, description='x', max=10), Output()), _dom_classes=('widget-interact',…"
      ]
     },
     "metadata": {},
     "output_type": "display_data"
    }
   ],
   "source": [
    "from ipywidgets import interact\n",
    "@interact(x=(0,10))\n",
    "def square(x):\n",
    "    print('Da square ov %d is %d !' %(x,x**2))\n",
    "    "
   ]
  },
  {
   "cell_type": "code",
   "execution_count": 17,
   "metadata": {},
   "outputs": [
    {
     "data": {
      "application/vnd.jupyter.widget-view+json": {
       "model_id": "4035976d6a8a49928b8eec5befa43ce8",
       "version_major": 2,
       "version_minor": 0
      },
      "text/plain": [
       "interactive(children=(FloatSlider(value=2.0, description='금리', max=5.0, min=1.0), IntSlider(value=20, descript…"
      ]
     },
     "metadata": {},
     "output_type": "display_data"
    }
   ],
   "source": [
    "#주택 융자 상환 시뮬레이터!\n",
    "from ipywidgets import IntSlider,FloatSlider\n",
    "import numpy as np\n",
    "\n",
    "rate_slider=FloatSlider(min=1,max=5,step=0.1,value=2,description='금리')\n",
    "nper_slider=IntSlider(min=1,max=35,step=1,value=20,description='상환기간')\n",
    "pv_slider=IntSlider(min=5000000,max=50000000,step=1000000,value=20000000,description='상환금액')\n",
    "@interact(rate=rate_slider,nper=nper_slider,pv=pv_slider)\n",
    "def pmt(rate,nper,pv):\n",
    "    rate=rate*0.01/12\n",
    "    nper=nper*12\n",
    "    payment=abs(int(np.pmt(rate,nper,pv)))\n",
    "    print('매달 상환금액 : {:,d}원'.format(payment))\n",
    "    print('총상환액 : {:,d}원'.format(payment*nper))"
   ]
  },
  {
   "cell_type": "code",
   "execution_count": null,
   "metadata": {},
   "outputs": [],
   "source": []
  }
 ],
 "metadata": {
  "kernelspec": {
   "display_name": "Python 3",
   "language": "python",
   "name": "python3"
  },
  "language_info": {
   "codemirror_mode": {
    "name": "ipython",
    "version": 3
   },
   "file_extension": ".py",
   "mimetype": "text/x-python",
   "name": "python",
   "nbconvert_exporter": "python",
   "pygments_lexer": "ipython3",
   "version": "3.6.8"
  }
 },
 "nbformat": 4,
 "nbformat_minor": 2
}
